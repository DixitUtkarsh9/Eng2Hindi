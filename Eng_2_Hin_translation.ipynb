{
  "cells": [
    {
      "cell_type": "code",
      "execution_count": 1,
      "metadata": {
        "id": "mU-ron1nu0ZV"
      },
      "outputs": [],
      "source": [
        "import pandas as pd\n",
        "import numpy as np\n",
        "import tensorflow as tf\n",
        "from tensorflow import keras\n",
        "from tensorflow.keras import layers\n",
        "\n",
        "data = pd.read_csv('/content/Hindi_English_Truncated_Corpus.csv')"
      ]
    },
    {
      "cell_type": "code",
      "execution_count": 2,
      "metadata": {
        "colab": {
          "base_uri": "https://localhost:8080/"
        },
        "id": "-JOK7b4mw85-",
        "outputId": "9615f13a-9e3c-45e2-9117-f5e5d5fae813"
      },
      "outputs": [
        {
          "name": "stdout",
          "output_type": "stream",
          "text": [
            "Index(['source', 'english_sentence', 'hindi_sentence'], dtype='object')\n"
          ]
        }
      ],
      "source": [
        "print(data.columns)"
      ]
    },
    {
      "cell_type": "code",
      "execution_count": 3,
      "metadata": {
        "id": "-QKjAsNNw-_p"
      },
      "outputs": [],
      "source": [
        "# Assuming your dataset has two columns: 'english' and 'hindi'\n",
        "English_sent = data[\"english_sentence\"].tolist()\n",
        "Hindi_sent = data[\"hindi_sentence\"].tolist()\n",
        "\n"
      ]
    },
    {
      "cell_type": "code",
      "execution_count": 4,
      "metadata": {
        "id": "Pej6rYqPxAaD"
      },
      "outputs": [],
      "source": [
        "# Preprocessing\n",
        "def preprocess(sentences):\n",
        "    # Convert all elements in sentences to strings\n",
        "    sentences = [str(sent) for sent in sentences]  # This line is added\n",
        "    tokenizer = keras.preprocessing.text.Tokenizer()\n",
        "    tokenizer.fit_on_texts(sentences)\n",
        "    sequences = tokenizer.texts_to_sequences(sentences)\n",
        "    max_length = max(len(seq) for seq in sequences)\n",
        "    padded_sequences = keras.preprocessing.sequence.pad_sequences(sequences, maxlen=max_length, padding='post')\n",
        "    return padded_sequences, tokenizer\n",
        "\n",
        "# Prepare the data\n",
        "# Changed 'english_sentences' to 'English_sent'\n",
        "X, eng_tokenizer = preprocess(English_sent)\n",
        "# Changed 'hindi_sentences' to 'Hindi_sent'\n",
        "y, hin_tokenizer = preprocess(Hindi_sent)\n",
        "\n",
        "# Prepare the target data (shifted for decoder)\n",
        "y = y[:, :-1]  # Remove the last token\n",
        "y = np.expand_dims(y, -1)  # Add a new axis for the decoder input"
      ]
    },
    {
      "cell_type": "code",
      "execution_count": 5,
      "metadata": {
        "id": "Ll8t6rYGxBly"
      },
      "outputs": [],
      "source": [
        "embedding_dim = 256\n",
        "units = 512\n",
        "vocab_size_eng = len(eng_tokenizer.word_index) + 1\n",
        "vocab_size_hin = len(hin_tokenizer.word_index) + 1"
      ]
    },
    {
      "cell_type": "code",
      "execution_count": 6,
      "metadata": {
        "id": "n9HAM5twxEI1"
      },
      "outputs": [],
      "source": [
        "# Encoder\n",
        "encoder_inputs = layers.Input(shape=(None,))\n",
        "encoder_embedding = layers.Embedding(vocab_size_eng, embedding_dim)(encoder_inputs)\n",
        "encoder_lstm = layers.LSTM(units, return_state=True)\n",
        "encoder_outputs, state_h, state_c = encoder_lstm(encoder_embedding)\n",
        "encoder_states = [state_h, state_c]\n",
        "\n",
        "# Decoder\n",
        "decoder_inputs = layers.Input(shape=(None,))\n",
        "decoder_embedding = layers.Embedding(vocab_size_hin, embedding_dim)(decoder_inputs)\n",
        "decoder_lstm = layers.LSTM(units, return_sequences=True, return_state=True)\n",
        "decoder_outputs, _, _ = decoder_lstm(decoder_embedding, initial_state=encoder_states)\n",
        "decoder_dense = layers.Dense(vocab_size_hin, activation='softmax')\n",
        "decoder_outputs = decoder_dense(decoder_outputs)"
      ]
    },
    {
      "cell_type": "code",
      "execution_count": 7,
      "metadata": {
        "id": "De0He5zvxFmr"
      },
      "outputs": [],
      "source": [
        "model = keras.Model([encoder_inputs, decoder_inputs], decoder_outputs)\n",
        "model.compile(optimizer='adam', loss='sparse_categorical_crossentropy', metrics=['accuracy'])\n"
      ]
    }
  ],
  "metadata": {
    "accelerator": "GPU",
    "colab": {
      "gpuType": "T4",
      "provenance": []
    },
    "kernelspec": {
      "display_name": "Python 3",
      "name": "python3"
    },
    "language_info": {
      "name": "python"
    }
  },
  "nbformat": 4,
  "nbformat_minor": 0
}
